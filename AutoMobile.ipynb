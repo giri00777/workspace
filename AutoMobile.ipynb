{
 "cells": [
  {
   "cell_type": "code",
   "execution_count": null,
   "id": "8abaaf9a",
   "metadata": {},
   "outputs": [],
   "source": []
  },
  {
   "cell_type": "code",
   "execution_count": 57,
   "id": "e4b9a5a3",
   "metadata": {},
   "outputs": [],
   "source": [
    "import pandas as pd\n",
    "import numpy as np\n",
    "import seaborn as sns\n",
    "from scipy import stats\n",
    "import matplotlib.pyplot as plt\n",
    "import statsmodels.api as sm\n",
    "from scipy.stats import pearsonr\n",
    "from statsmodels.stats.proportion import proportions_ztest\n",
    "from scipy.stats import chi2_contingency"
   ]
  },
  {
   "cell_type": "markdown",
   "id": "62439fb6",
   "metadata": {},
   "source": []
  },
  {
   "cell_type": "code",
   "execution_count": 58,
   "id": "4ffe8b45",
   "metadata": {},
   "outputs": [],
   "source": [
    "df = pd.read_csv(\"https://archive.ics.uci.edu/ml/machine-learning-databases/autos/imports-85.data\",header=None,names=['symboling','normalizedLosses','make','fuelType','aspiration','numofdoors','bodyStyle','driveWheels','engineLocation','wheelBase','length','width','height','curbWeight','engineType','cylinders','engineSize','fuelSystem','bore','stroke','compRatio','horsepower','peak_rpm','city_mpg','highway_mpg','price'],na_values='?')"
   ]
  },
  {
   "cell_type": "code",
   "execution_count": null,
   "id": "5fece587",
   "metadata": {},
   "outputs": [],
   "source": []
  },
  {
   "cell_type": "code",
   "execution_count": null,
   "id": "8a370ccd",
   "metadata": {},
   "outputs": [],
   "source": []
  },
  {
   "cell_type": "code",
   "execution_count": null,
   "id": "1c7dbbdb",
   "metadata": {},
   "outputs": [],
   "source": []
  },
  {
   "cell_type": "code",
   "execution_count": 59,
   "id": "3be01feb",
   "metadata": {},
   "outputs": [
    {
     "data": {
      "text/html": [
       "<div>\n",
       "<style scoped>\n",
       "    .dataframe tbody tr th:only-of-type {\n",
       "        vertical-align: middle;\n",
       "    }\n",
       "\n",
       "    .dataframe tbody tr th {\n",
       "        vertical-align: top;\n",
       "    }\n",
       "\n",
       "    .dataframe thead th {\n",
       "        text-align: right;\n",
       "    }\n",
       "</style>\n",
       "<table border=\"1\" class=\"dataframe\">\n",
       "  <thead>\n",
       "    <tr style=\"text-align: right;\">\n",
       "      <th></th>\n",
       "      <th>symboling</th>\n",
       "      <th>normalizedLosses</th>\n",
       "      <th>make</th>\n",
       "      <th>fuelType</th>\n",
       "      <th>aspiration</th>\n",
       "      <th>numofdoors</th>\n",
       "      <th>bodyStyle</th>\n",
       "      <th>driveWheels</th>\n",
       "      <th>engineLocation</th>\n",
       "      <th>wheelBase</th>\n",
       "      <th>...</th>\n",
       "      <th>engineSize</th>\n",
       "      <th>fuelSystem</th>\n",
       "      <th>bore</th>\n",
       "      <th>stroke</th>\n",
       "      <th>compRatio</th>\n",
       "      <th>horsepower</th>\n",
       "      <th>peak_rpm</th>\n",
       "      <th>city_mpg</th>\n",
       "      <th>highway_mpg</th>\n",
       "      <th>price</th>\n",
       "    </tr>\n",
       "  </thead>\n",
       "  <tbody>\n",
       "    <tr>\n",
       "      <th>0</th>\n",
       "      <td>3</td>\n",
       "      <td>NaN</td>\n",
       "      <td>alfa-romero</td>\n",
       "      <td>gas</td>\n",
       "      <td>std</td>\n",
       "      <td>two</td>\n",
       "      <td>convertible</td>\n",
       "      <td>rwd</td>\n",
       "      <td>front</td>\n",
       "      <td>88.6</td>\n",
       "      <td>...</td>\n",
       "      <td>130</td>\n",
       "      <td>mpfi</td>\n",
       "      <td>3.47</td>\n",
       "      <td>2.68</td>\n",
       "      <td>9.0</td>\n",
       "      <td>111.0</td>\n",
       "      <td>5000.0</td>\n",
       "      <td>21</td>\n",
       "      <td>27</td>\n",
       "      <td>13495.0</td>\n",
       "    </tr>\n",
       "    <tr>\n",
       "      <th>1</th>\n",
       "      <td>3</td>\n",
       "      <td>NaN</td>\n",
       "      <td>alfa-romero</td>\n",
       "      <td>gas</td>\n",
       "      <td>std</td>\n",
       "      <td>two</td>\n",
       "      <td>convertible</td>\n",
       "      <td>rwd</td>\n",
       "      <td>front</td>\n",
       "      <td>88.6</td>\n",
       "      <td>...</td>\n",
       "      <td>130</td>\n",
       "      <td>mpfi</td>\n",
       "      <td>3.47</td>\n",
       "      <td>2.68</td>\n",
       "      <td>9.0</td>\n",
       "      <td>111.0</td>\n",
       "      <td>5000.0</td>\n",
       "      <td>21</td>\n",
       "      <td>27</td>\n",
       "      <td>16500.0</td>\n",
       "    </tr>\n",
       "    <tr>\n",
       "      <th>2</th>\n",
       "      <td>1</td>\n",
       "      <td>NaN</td>\n",
       "      <td>alfa-romero</td>\n",
       "      <td>gas</td>\n",
       "      <td>std</td>\n",
       "      <td>two</td>\n",
       "      <td>hatchback</td>\n",
       "      <td>rwd</td>\n",
       "      <td>front</td>\n",
       "      <td>94.5</td>\n",
       "      <td>...</td>\n",
       "      <td>152</td>\n",
       "      <td>mpfi</td>\n",
       "      <td>2.68</td>\n",
       "      <td>3.47</td>\n",
       "      <td>9.0</td>\n",
       "      <td>154.0</td>\n",
       "      <td>5000.0</td>\n",
       "      <td>19</td>\n",
       "      <td>26</td>\n",
       "      <td>16500.0</td>\n",
       "    </tr>\n",
       "    <tr>\n",
       "      <th>3</th>\n",
       "      <td>2</td>\n",
       "      <td>164.0</td>\n",
       "      <td>audi</td>\n",
       "      <td>gas</td>\n",
       "      <td>std</td>\n",
       "      <td>four</td>\n",
       "      <td>sedan</td>\n",
       "      <td>fwd</td>\n",
       "      <td>front</td>\n",
       "      <td>99.8</td>\n",
       "      <td>...</td>\n",
       "      <td>109</td>\n",
       "      <td>mpfi</td>\n",
       "      <td>3.19</td>\n",
       "      <td>3.40</td>\n",
       "      <td>10.0</td>\n",
       "      <td>102.0</td>\n",
       "      <td>5500.0</td>\n",
       "      <td>24</td>\n",
       "      <td>30</td>\n",
       "      <td>13950.0</td>\n",
       "    </tr>\n",
       "    <tr>\n",
       "      <th>4</th>\n",
       "      <td>2</td>\n",
       "      <td>164.0</td>\n",
       "      <td>audi</td>\n",
       "      <td>gas</td>\n",
       "      <td>std</td>\n",
       "      <td>four</td>\n",
       "      <td>sedan</td>\n",
       "      <td>4wd</td>\n",
       "      <td>front</td>\n",
       "      <td>99.4</td>\n",
       "      <td>...</td>\n",
       "      <td>136</td>\n",
       "      <td>mpfi</td>\n",
       "      <td>3.19</td>\n",
       "      <td>3.40</td>\n",
       "      <td>8.0</td>\n",
       "      <td>115.0</td>\n",
       "      <td>5500.0</td>\n",
       "      <td>18</td>\n",
       "      <td>22</td>\n",
       "      <td>17450.0</td>\n",
       "    </tr>\n",
       "  </tbody>\n",
       "</table>\n",
       "<p>5 rows × 26 columns</p>\n",
       "</div>"
      ],
      "text/plain": [
       "   symboling  normalizedLosses         make fuelType aspiration numofdoors  \\\n",
       "0          3               NaN  alfa-romero      gas        std        two   \n",
       "1          3               NaN  alfa-romero      gas        std        two   \n",
       "2          1               NaN  alfa-romero      gas        std        two   \n",
       "3          2             164.0         audi      gas        std       four   \n",
       "4          2             164.0         audi      gas        std       four   \n",
       "\n",
       "     bodyStyle driveWheels engineLocation  wheelBase  ...  engineSize  \\\n",
       "0  convertible         rwd          front       88.6  ...         130   \n",
       "1  convertible         rwd          front       88.6  ...         130   \n",
       "2    hatchback         rwd          front       94.5  ...         152   \n",
       "3        sedan         fwd          front       99.8  ...         109   \n",
       "4        sedan         4wd          front       99.4  ...         136   \n",
       "\n",
       "   fuelSystem  bore  stroke compRatio horsepower  peak_rpm city_mpg  \\\n",
       "0        mpfi  3.47    2.68       9.0      111.0    5000.0       21   \n",
       "1        mpfi  3.47    2.68       9.0      111.0    5000.0       21   \n",
       "2        mpfi  2.68    3.47       9.0      154.0    5000.0       19   \n",
       "3        mpfi  3.19    3.40      10.0      102.0    5500.0       24   \n",
       "4        mpfi  3.19    3.40       8.0      115.0    5500.0       18   \n",
       "\n",
       "   highway_mpg    price  \n",
       "0           27  13495.0  \n",
       "1           27  16500.0  \n",
       "2           26  16500.0  \n",
       "3           30  13950.0  \n",
       "4           22  17450.0  \n",
       "\n",
       "[5 rows x 26 columns]"
      ]
     },
     "execution_count": 59,
     "metadata": {},
     "output_type": "execute_result"
    }
   ],
   "source": [
    "df.head()"
   ]
  },
  {
   "cell_type": "code",
   "execution_count": null,
   "id": "002b9199",
   "metadata": {},
   "outputs": [],
   "source": []
  },
  {
   "cell_type": "code",
   "execution_count": 60,
   "id": "8f7d8803",
   "metadata": {},
   "outputs": [
    {
     "data": {
      "text/plain": [
       "symboling            0\n",
       "normalizedLosses    41\n",
       "make                 0\n",
       "fuelType             0\n",
       "aspiration           0\n",
       "numofdoors           2\n",
       "bodyStyle            0\n",
       "driveWheels          0\n",
       "engineLocation       0\n",
       "wheelBase            0\n",
       "length               0\n",
       "width                0\n",
       "height               0\n",
       "curbWeight           0\n",
       "engineType           0\n",
       "cylinders            0\n",
       "engineSize           0\n",
       "fuelSystem           0\n",
       "bore                 4\n",
       "stroke               4\n",
       "compRatio            0\n",
       "horsepower           2\n",
       "peak_rpm             2\n",
       "city_mpg             0\n",
       "highway_mpg          0\n",
       "price                4\n",
       "dtype: int64"
      ]
     },
     "execution_count": 60,
     "metadata": {},
     "output_type": "execute_result"
    }
   ],
   "source": [
    "df.isnull().sum()"
   ]
  },
  {
   "cell_type": "code",
   "execution_count": null,
   "id": "3ed8493d",
   "metadata": {},
   "outputs": [],
   "source": []
  },
  {
   "cell_type": "code",
   "execution_count": 61,
   "id": "0ae2f7c1",
   "metadata": {},
   "outputs": [
    {
     "name": "stdout",
     "output_type": "stream",
     "text": [
      "<class 'pandas.core.frame.DataFrame'>\n",
      "RangeIndex: 205 entries, 0 to 204\n",
      "Data columns (total 26 columns):\n",
      " #   Column            Non-Null Count  Dtype  \n",
      "---  ------            --------------  -----  \n",
      " 0   symboling         205 non-null    int64  \n",
      " 1   normalizedLosses  164 non-null    float64\n",
      " 2   make              205 non-null    object \n",
      " 3   fuelType          205 non-null    object \n",
      " 4   aspiration        205 non-null    object \n",
      " 5   numofdoors        203 non-null    object \n",
      " 6   bodyStyle         205 non-null    object \n",
      " 7   driveWheels       205 non-null    object \n",
      " 8   engineLocation    205 non-null    object \n",
      " 9   wheelBase         205 non-null    float64\n",
      " 10  length            205 non-null    float64\n",
      " 11  width             205 non-null    float64\n",
      " 12  height            205 non-null    float64\n",
      " 13  curbWeight        205 non-null    int64  \n",
      " 14  engineType        205 non-null    object \n",
      " 15  cylinders         205 non-null    object \n",
      " 16  engineSize        205 non-null    int64  \n",
      " 17  fuelSystem        205 non-null    object \n",
      " 18  bore              201 non-null    float64\n",
      " 19  stroke            201 non-null    float64\n",
      " 20  compRatio         205 non-null    float64\n",
      " 21  horsepower        203 non-null    float64\n",
      " 22  peak_rpm          203 non-null    float64\n",
      " 23  city_mpg          205 non-null    int64  \n",
      " 24  highway_mpg       205 non-null    int64  \n",
      " 25  price             201 non-null    float64\n",
      "dtypes: float64(11), int64(5), object(10)\n",
      "memory usage: 41.8+ KB\n"
     ]
    }
   ],
   "source": [
    "df.info()"
   ]
  },
  {
   "cell_type": "code",
   "execution_count": 62,
   "id": "ff3b2e00",
   "metadata": {},
   "outputs": [],
   "source": [
    "df.normalizedLosses.fillna(df.normalizedLosses.mean(),inplace=True)"
   ]
  },
  {
   "cell_type": "code",
   "execution_count": 63,
   "id": "e21aa9e6",
   "metadata": {},
   "outputs": [],
   "source": [
    "df.numofdoors.fillna(df.numofdoors.mode().max(),inplace=True)"
   ]
  },
  {
   "cell_type": "code",
   "execution_count": 64,
   "id": "0b931c3a",
   "metadata": {},
   "outputs": [],
   "source": [
    "df.bore.fillna(df.bore.mean(),inplace=True)"
   ]
  },
  {
   "cell_type": "code",
   "execution_count": 65,
   "id": "b48c316f",
   "metadata": {},
   "outputs": [],
   "source": [
    "df.stroke.fillna(df.stroke.mean(),inplace=True)"
   ]
  },
  {
   "cell_type": "code",
   "execution_count": 66,
   "id": "0c3a3a1d",
   "metadata": {},
   "outputs": [],
   "source": [
    "df.horsepower.fillna(df.horsepower.mean(),inplace=True)"
   ]
  },
  {
   "cell_type": "code",
   "execution_count": 67,
   "id": "d4bcba14",
   "metadata": {},
   "outputs": [],
   "source": [
    "df.peak_rpm.fillna(df.peak_rpm.mean(),inplace=True)"
   ]
  },
  {
   "cell_type": "code",
   "execution_count": 68,
   "id": "15139488",
   "metadata": {},
   "outputs": [],
   "source": [
    "df.price.fillna(df.price.mean(),inplace=True)"
   ]
  },
  {
   "cell_type": "code",
   "execution_count": 69,
   "id": "3e4cf7a4",
   "metadata": {},
   "outputs": [],
   "source": [
    "##### Let's check once again the dataset contains any null or not:"
   ]
  },
  {
   "cell_type": "code",
   "execution_count": 70,
   "id": "db2ef5c3",
   "metadata": {},
   "outputs": [
    {
     "data": {
      "text/plain": [
       "symboling           0\n",
       "normalizedLosses    0\n",
       "make                0\n",
       "fuelType            0\n",
       "aspiration          0\n",
       "numofdoors          0\n",
       "bodyStyle           0\n",
       "driveWheels         0\n",
       "engineLocation      0\n",
       "wheelBase           0\n",
       "length              0\n",
       "width               0\n",
       "height              0\n",
       "curbWeight          0\n",
       "engineType          0\n",
       "cylinders           0\n",
       "engineSize          0\n",
       "fuelSystem          0\n",
       "bore                0\n",
       "stroke              0\n",
       "compRatio           0\n",
       "horsepower          0\n",
       "peak_rpm            0\n",
       "city_mpg            0\n",
       "highway_mpg         0\n",
       "price               0\n",
       "dtype: int64"
      ]
     },
     "execution_count": 70,
     "metadata": {},
     "output_type": "execute_result"
    }
   ],
   "source": [
    "df.isnull().sum()"
   ]
  },
  {
   "cell_type": "code",
   "execution_count": null,
   "id": "6c001ba9",
   "metadata": {},
   "outputs": [],
   "source": []
  },
  {
   "cell_type": "code",
   "execution_count": null,
   "id": "e07f5bc3",
   "metadata": {},
   "outputs": [],
   "source": []
  },
  {
   "cell_type": "code",
   "execution_count": 71,
   "id": "7121c30d",
   "metadata": {},
   "outputs": [
    {
     "data": {
      "text/plain": [
       "(-0.08220143736318973, 0.24130433124264047)"
      ]
     },
     "execution_count": 71,
     "metadata": {},
     "output_type": "execute_result"
    }
   ],
   "source": [
    "pearsonr(df.symboling,df.price)"
   ]
  },
  {
   "cell_type": "code",
   "execution_count": 72,
   "id": "72adec36",
   "metadata": {},
   "outputs": [
    {
     "data": {
      "text/plain": [
       "(0.13399873429274337, 0.05543057826318259)"
      ]
     },
     "execution_count": 72,
     "metadata": {},
     "output_type": "execute_result"
    }
   ],
   "source": [
    "pearsonr(df.normalizedLosses,df.price)"
   ]
  },
  {
   "cell_type": "code",
   "execution_count": 73,
   "id": "5791ccfe",
   "metadata": {},
   "outputs": [
    {
     "data": {
      "text/plain": [
       "(0.5831681499789547, 4.527625545686765e-20)"
      ]
     },
     "execution_count": 73,
     "metadata": {},
     "output_type": "execute_result"
    }
   ],
   "source": [
    "pearsonr(df.wheelBase,df.price)"
   ]
  },
  {
   "cell_type": "code",
   "execution_count": 74,
   "id": "3a387348",
   "metadata": {},
   "outputs": [
    {
     "data": {
      "text/plain": [
       "(0.6829862954386219, 1.6498873291218535e-29)"
      ]
     },
     "execution_count": 74,
     "metadata": {},
     "output_type": "execute_result"
    }
   ],
   "source": [
    "pearsonr(df.length,df.price)"
   ]
  },
  {
   "cell_type": "code",
   "execution_count": 75,
   "id": "25e253b5",
   "metadata": {},
   "outputs": [
    {
     "data": {
      "text/plain": [
       "(0.7286988175931839, 3.214520483804664e-35)"
      ]
     },
     "execution_count": 75,
     "metadata": {},
     "output_type": "execute_result"
    }
   ],
   "source": [
    "pearsonr(df.width,df.price)"
   ]
  },
  {
   "cell_type": "code",
   "execution_count": 76,
   "id": "01a8b438",
   "metadata": {},
   "outputs": [
    {
     "data": {
      "text/plain": [
       "(0.13438751871051807, 0.05471982048424776)"
      ]
     },
     "execution_count": 76,
     "metadata": {},
     "output_type": "execute_result"
    }
   ],
   "source": [
    "pearsonr(df.height,df.price)"
   ]
  },
  {
   "cell_type": "code",
   "execution_count": 77,
   "id": "3b37a2bd",
   "metadata": {},
   "outputs": [
    {
     "data": {
      "text/plain": [
       "(0.820824733354729, 2.8663321070270534e-51)"
      ]
     },
     "execution_count": 77,
     "metadata": {},
     "output_type": "execute_result"
    }
   ],
   "source": [
    "pearsonr(df.curbWeight,df.price)"
   ]
  },
  {
   "cell_type": "code",
   "execution_count": 78,
   "id": "0bfc55b6",
   "metadata": {},
   "outputs": [
    {
     "data": {
      "text/plain": [
       "(0.8617522436859721, 9.669661923634776e-62)"
      ]
     },
     "execution_count": 78,
     "metadata": {},
     "output_type": "execute_result"
    }
   ],
   "source": [
    "pearsonr(df.engineSize,df.price)"
   ]
  },
  {
   "cell_type": "code",
   "execution_count": 79,
   "id": "0cf69b07",
   "metadata": {},
   "outputs": [
    {
     "data": {
      "text/plain": [
       "(0.5323000195387407, 2.1398306512855486e-16)"
      ]
     },
     "execution_count": 79,
     "metadata": {},
     "output_type": "execute_result"
    }
   ],
   "source": [
    "pearsonr(df.bore,df.price)"
   ]
  },
  {
   "cell_type": "code",
   "execution_count": 80,
   "id": "8fb7c955",
   "metadata": {},
   "outputs": [
    {
     "data": {
      "text/plain": [
       "(0.08209529554134327, 0.24191456857746316)"
      ]
     },
     "execution_count": 80,
     "metadata": {},
     "output_type": "execute_result"
    }
   ],
   "source": [
    "pearsonr(df.stroke,df.price)"
   ]
  },
  {
   "cell_type": "code",
   "execution_count": 81,
   "id": "3e743277",
   "metadata": {},
   "outputs": [
    {
     "data": {
      "text/plain": [
       "(0.07099036277901556, 0.31178249194905244)"
      ]
     },
     "execution_count": 81,
     "metadata": {},
     "output_type": "execute_result"
    }
   ],
   "source": [
    "pearsonr(df.compRatio,df.price)"
   ]
  },
  {
   "cell_type": "code",
   "execution_count": 82,
   "id": "587ff8cb",
   "metadata": {},
   "outputs": [
    {
     "data": {
      "text/plain": [
       "(0.7579169537498177, 1.6076703978130332e-39)"
      ]
     },
     "execution_count": 82,
     "metadata": {},
     "output_type": "execute_result"
    }
   ],
   "source": [
    "pearsonr(df.horsepower,df.price)"
   ]
  },
  {
   "cell_type": "code",
   "execution_count": 83,
   "id": "14a1a010",
   "metadata": {},
   "outputs": [
    {
     "data": {
      "text/plain": [
       "(-0.10085406591169085, 0.15019246954232154)"
      ]
     },
     "execution_count": 83,
     "metadata": {},
     "output_type": "execute_result"
    }
   ],
   "source": [
    "pearsonr(df.peak_rpm,df.price)"
   ]
  },
  {
   "cell_type": "code",
   "execution_count": 84,
   "id": "1afe8bd9",
   "metadata": {},
   "outputs": [
    {
     "data": {
      "text/plain": [
       "(-0.6674492651600004, 8.463700497727807e-28)"
      ]
     },
     "execution_count": 84,
     "metadata": {},
     "output_type": "execute_result"
    }
   ],
   "source": [
    "pearsonr(df.city_mpg,df.price)"
   ]
  },
  {
   "cell_type": "code",
   "execution_count": 85,
   "id": "887d532b",
   "metadata": {},
   "outputs": [
    {
     "data": {
      "text/plain": [
       "(-0.6905257341183488, 2.23246740583743e-30)"
      ]
     },
     "execution_count": 85,
     "metadata": {},
     "output_type": "execute_result"
    }
   ],
   "source": [
    "pearsonr(df.highway_mpg,df.price)"
   ]
  },
  {
   "cell_type": "code",
   "execution_count": 86,
   "id": "6e91797f",
   "metadata": {},
   "outputs": [
    {
     "data": {
      "text/plain": [
       "F_onewayResult(statistic=2.4958589760681935, pvalue=0.11570297526361666)"
      ]
     },
     "execution_count": 86,
     "metadata": {},
     "output_type": "execute_result"
    }
   ],
   "source": [
    "stats.f_oneway(df.price[df.fuelType=='gas'],df.price[df.fuelType=='diesel'])"
   ]
  },
  {
   "cell_type": "code",
   "execution_count": 87,
   "id": "117cb158",
   "metadata": {},
   "outputs": [
    {
     "data": {
      "text/plain": [
       "F_onewayResult(statistic=6.587289855140993, pvalue=0.010991046478632666)"
      ]
     },
     "execution_count": 87,
     "metadata": {},
     "output_type": "execute_result"
    }
   ],
   "source": [
    "stats.f_oneway(df.price[df.aspiration=='std'],df.price[df.aspiration=='turbo'])"
   ]
  },
  {
   "cell_type": "code",
   "execution_count": 88,
   "id": "723ac121",
   "metadata": {},
   "outputs": [
    {
     "data": {
      "text/plain": [
       "F_onewayResult(statistic=0.35778516571700403, pvalue=0.5504056367624801)"
      ]
     },
     "execution_count": 88,
     "metadata": {},
     "output_type": "execute_result"
    }
   ],
   "source": [
    "stats.f_oneway(df.price[df.numofdoors=='four'],df.price[df.numofdoors=='two'])"
   ]
  },
  {
   "cell_type": "code",
   "execution_count": 89,
   "id": "b89d3d1a",
   "metadata": {},
   "outputs": [
    {
     "data": {
      "text/plain": [
       "F_onewayResult(statistic=67.5036668266912, pvalue=3.5392707916047903e-23)"
      ]
     },
     "execution_count": 89,
     "metadata": {},
     "output_type": "execute_result"
    }
   ],
   "source": [
    "stats.f_oneway(df.price[df.driveWheels=='fwd'],df.price[df.driveWheels=='rwd'],df.price[df.driveWheels=='4wd'])"
   ]
  },
  {
   "cell_type": "code",
   "execution_count": 90,
   "id": "a92b7b46",
   "metadata": {},
   "outputs": [
    {
     "data": {
      "text/plain": [
       "F_onewayResult(statistic=9.183927252573389, pvalue=7.844575720929884e-07)"
      ]
     },
     "execution_count": 90,
     "metadata": {},
     "output_type": "execute_result"
    }
   ],
   "source": [
    "stats.f_oneway(df.price[df.bodyStyle=='convertible'],df.price[df.bodyStyle=='hatchback'],df.price[df.bodyStyle=='sedan'],df.price[df.bodyStyle=='wagon'],df.price[df.bodyStyle=='hardtop'])"
   ]
  },
  {
   "cell_type": "code",
   "execution_count": 91,
   "id": "66369ecf",
   "metadata": {},
   "outputs": [
    {
     "data": {
      "text/plain": [
       "F_onewayResult(statistic=24.979629190446918, pvalue=1.2486063656822578e-06)"
      ]
     },
     "execution_count": 91,
     "metadata": {},
     "output_type": "execute_result"
    }
   ],
   "source": [
    "stats.f_oneway(df.price[df.engineLocation=='front'],df.price[df.engineLocation=='rear'])"
   ]
  },
  {
   "cell_type": "code",
   "execution_count": 92,
   "id": "c4b7b694",
   "metadata": {},
   "outputs": [
    {
     "data": {
      "text/plain": [
       "F_onewayResult(statistic=8.880041876905345, pvalue=1.3919774978921531e-07)"
      ]
     },
     "execution_count": 92,
     "metadata": {},
     "output_type": "execute_result"
    }
   ],
   "source": [
    "stats.f_oneway(df.price[df.engineType=='ohc'],df.price[df.engineType=='ohcf'],df.price[df.engineType=='ohcv'],df.price[df.engineType=='l'],df.price[df.engineType=='rotor'],df.price[df.engineType=='dohcv'])"
   ]
  },
  {
   "cell_type": "code",
   "execution_count": 93,
   "id": "f4c18007",
   "metadata": {},
   "outputs": [
    {
     "data": {
      "text/plain": [
       "F_onewayResult(statistic=45.72705376201727, pvalue=7.149269882584999e-35)"
      ]
     },
     "execution_count": 93,
     "metadata": {},
     "output_type": "execute_result"
    }
   ],
   "source": [
    "stats.f_oneway(df.price[df.cylinders=='four'],df.price[df.cylinders=='six'],df.price[df.cylinders=='five'],df.price[df.cylinders=='eight'],df.price[df.cylinders=='two'],df.price[df.cylinders=='three'],df.price[df.cylinders=='twelve'])"
   ]
  },
  {
   "cell_type": "code",
   "execution_count": 94,
   "id": "fd87f94a",
   "metadata": {},
   "outputs": [
    {
     "data": {
      "text/plain": [
       "F_onewayResult(statistic=14.797402090222409, pvalue=1.8657347748825717e-15)"
      ]
     },
     "execution_count": 94,
     "metadata": {},
     "output_type": "execute_result"
    }
   ],
   "source": [
    "stats.f_oneway(df.price[df.fuelSystem=='mpfi'],df.price[df.fuelSystem=='2bbl'],df.price[df.fuelSystem=='idi'],df.price[df.fuelSystem=='1bbl'],df.price[df.fuelSystem=='spdi'],df.price[df.fuelSystem=='4bbl'],df.price[df.fuelSystem=='mfi'],df.price[df.fuelSystem=='spfi'])"
   ]
  },
  {
   "cell_type": "code",
   "execution_count": null,
   "id": "52f5f0c0",
   "metadata": {},
   "outputs": [],
   "source": [
    " "
   ]
  },
  {
   "cell_type": "code",
   "execution_count": 95,
   "id": "5ea6c721",
   "metadata": {},
   "outputs": [],
   "source": [
    "df.drop(['symboling','normalizedLosses','make','height','numofdoors','stroke','compRatio','peak_rpm','fuelType'],axis=1,inplace=True)"
   ]
  },
  {
   "cell_type": "code",
   "execution_count": null,
   "id": "4756d02e",
   "metadata": {},
   "outputs": [],
   "source": []
  },
  {
   "cell_type": "code",
   "execution_count": 96,
   "id": "de886d7c",
   "metadata": {},
   "outputs": [
    {
     "data": {
      "text/html": [
       "<div>\n",
       "<style scoped>\n",
       "    .dataframe tbody tr th:only-of-type {\n",
       "        vertical-align: middle;\n",
       "    }\n",
       "\n",
       "    .dataframe tbody tr th {\n",
       "        vertical-align: top;\n",
       "    }\n",
       "\n",
       "    .dataframe thead th {\n",
       "        text-align: right;\n",
       "    }\n",
       "</style>\n",
       "<table border=\"1\" class=\"dataframe\">\n",
       "  <thead>\n",
       "    <tr style=\"text-align: right;\">\n",
       "      <th></th>\n",
       "      <th>aspiration</th>\n",
       "      <th>bodyStyle</th>\n",
       "      <th>driveWheels</th>\n",
       "      <th>engineLocation</th>\n",
       "      <th>wheelBase</th>\n",
       "      <th>length</th>\n",
       "      <th>width</th>\n",
       "      <th>curbWeight</th>\n",
       "      <th>engineType</th>\n",
       "      <th>cylinders</th>\n",
       "      <th>engineSize</th>\n",
       "      <th>fuelSystem</th>\n",
       "      <th>bore</th>\n",
       "      <th>horsepower</th>\n",
       "      <th>city_mpg</th>\n",
       "      <th>highway_mpg</th>\n",
       "      <th>price</th>\n",
       "    </tr>\n",
       "  </thead>\n",
       "  <tbody>\n",
       "    <tr>\n",
       "      <th>0</th>\n",
       "      <td>std</td>\n",
       "      <td>convertible</td>\n",
       "      <td>rwd</td>\n",
       "      <td>front</td>\n",
       "      <td>88.6</td>\n",
       "      <td>168.8</td>\n",
       "      <td>64.1</td>\n",
       "      <td>2548</td>\n",
       "      <td>dohc</td>\n",
       "      <td>four</td>\n",
       "      <td>130</td>\n",
       "      <td>mpfi</td>\n",
       "      <td>3.47</td>\n",
       "      <td>111.0</td>\n",
       "      <td>21</td>\n",
       "      <td>27</td>\n",
       "      <td>13495.0</td>\n",
       "    </tr>\n",
       "    <tr>\n",
       "      <th>1</th>\n",
       "      <td>std</td>\n",
       "      <td>convertible</td>\n",
       "      <td>rwd</td>\n",
       "      <td>front</td>\n",
       "      <td>88.6</td>\n",
       "      <td>168.8</td>\n",
       "      <td>64.1</td>\n",
       "      <td>2548</td>\n",
       "      <td>dohc</td>\n",
       "      <td>four</td>\n",
       "      <td>130</td>\n",
       "      <td>mpfi</td>\n",
       "      <td>3.47</td>\n",
       "      <td>111.0</td>\n",
       "      <td>21</td>\n",
       "      <td>27</td>\n",
       "      <td>16500.0</td>\n",
       "    </tr>\n",
       "    <tr>\n",
       "      <th>2</th>\n",
       "      <td>std</td>\n",
       "      <td>hatchback</td>\n",
       "      <td>rwd</td>\n",
       "      <td>front</td>\n",
       "      <td>94.5</td>\n",
       "      <td>171.2</td>\n",
       "      <td>65.5</td>\n",
       "      <td>2823</td>\n",
       "      <td>ohcv</td>\n",
       "      <td>six</td>\n",
       "      <td>152</td>\n",
       "      <td>mpfi</td>\n",
       "      <td>2.68</td>\n",
       "      <td>154.0</td>\n",
       "      <td>19</td>\n",
       "      <td>26</td>\n",
       "      <td>16500.0</td>\n",
       "    </tr>\n",
       "    <tr>\n",
       "      <th>3</th>\n",
       "      <td>std</td>\n",
       "      <td>sedan</td>\n",
       "      <td>fwd</td>\n",
       "      <td>front</td>\n",
       "      <td>99.8</td>\n",
       "      <td>176.6</td>\n",
       "      <td>66.2</td>\n",
       "      <td>2337</td>\n",
       "      <td>ohc</td>\n",
       "      <td>four</td>\n",
       "      <td>109</td>\n",
       "      <td>mpfi</td>\n",
       "      <td>3.19</td>\n",
       "      <td>102.0</td>\n",
       "      <td>24</td>\n",
       "      <td>30</td>\n",
       "      <td>13950.0</td>\n",
       "    </tr>\n",
       "    <tr>\n",
       "      <th>4</th>\n",
       "      <td>std</td>\n",
       "      <td>sedan</td>\n",
       "      <td>4wd</td>\n",
       "      <td>front</td>\n",
       "      <td>99.4</td>\n",
       "      <td>176.6</td>\n",
       "      <td>66.4</td>\n",
       "      <td>2824</td>\n",
       "      <td>ohc</td>\n",
       "      <td>five</td>\n",
       "      <td>136</td>\n",
       "      <td>mpfi</td>\n",
       "      <td>3.19</td>\n",
       "      <td>115.0</td>\n",
       "      <td>18</td>\n",
       "      <td>22</td>\n",
       "      <td>17450.0</td>\n",
       "    </tr>\n",
       "  </tbody>\n",
       "</table>\n",
       "</div>"
      ],
      "text/plain": [
       "  aspiration    bodyStyle driveWheels engineLocation  wheelBase  length  \\\n",
       "0        std  convertible         rwd          front       88.6   168.8   \n",
       "1        std  convertible         rwd          front       88.6   168.8   \n",
       "2        std    hatchback         rwd          front       94.5   171.2   \n",
       "3        std        sedan         fwd          front       99.8   176.6   \n",
       "4        std        sedan         4wd          front       99.4   176.6   \n",
       "\n",
       "   width  curbWeight engineType cylinders  engineSize fuelSystem  bore  \\\n",
       "0   64.1        2548       dohc      four         130       mpfi  3.47   \n",
       "1   64.1        2548       dohc      four         130       mpfi  3.47   \n",
       "2   65.5        2823       ohcv       six         152       mpfi  2.68   \n",
       "3   66.2        2337        ohc      four         109       mpfi  3.19   \n",
       "4   66.4        2824        ohc      five         136       mpfi  3.19   \n",
       "\n",
       "   horsepower  city_mpg  highway_mpg    price  \n",
       "0       111.0        21           27  13495.0  \n",
       "1       111.0        21           27  16500.0  \n",
       "2       154.0        19           26  16500.0  \n",
       "3       102.0        24           30  13950.0  \n",
       "4       115.0        18           22  17450.0  "
      ]
     },
     "execution_count": 96,
     "metadata": {},
     "output_type": "execute_result"
    }
   ],
   "source": [
    "df.head()"
   ]
  },
  {
   "cell_type": "code",
   "execution_count": 97,
   "id": "502b6a9b",
   "metadata": {},
   "outputs": [
    {
     "data": {
      "text/plain": [
       "(205, 17)"
      ]
     },
     "execution_count": 97,
     "metadata": {},
     "output_type": "execute_result"
    }
   ],
   "source": [
    "df.shape"
   ]
  },
  {
   "cell_type": "code",
   "execution_count": 98,
   "id": "4ff77845",
   "metadata": {},
   "outputs": [],
   "source": [
    "train = df.iloc[:165]"
   ]
  },
  {
   "cell_type": "code",
   "execution_count": 99,
   "id": "710b58fb",
   "metadata": {},
   "outputs": [],
   "source": [
    "test = df.iloc[165:]"
   ]
  },
  {
   "cell_type": "code",
   "execution_count": 100,
   "id": "730dcc0b",
   "metadata": {},
   "outputs": [
    {
     "data": {
      "text/html": [
       "<div>\n",
       "<style scoped>\n",
       "    .dataframe tbody tr th:only-of-type {\n",
       "        vertical-align: middle;\n",
       "    }\n",
       "\n",
       "    .dataframe tbody tr th {\n",
       "        vertical-align: top;\n",
       "    }\n",
       "\n",
       "    .dataframe thead th {\n",
       "        text-align: right;\n",
       "    }\n",
       "</style>\n",
       "<table border=\"1\" class=\"dataframe\">\n",
       "  <thead>\n",
       "    <tr style=\"text-align: right;\">\n",
       "      <th></th>\n",
       "      <th>aspiration</th>\n",
       "      <th>bodyStyle</th>\n",
       "      <th>driveWheels</th>\n",
       "      <th>engineLocation</th>\n",
       "      <th>wheelBase</th>\n",
       "      <th>length</th>\n",
       "      <th>width</th>\n",
       "      <th>curbWeight</th>\n",
       "      <th>engineType</th>\n",
       "      <th>cylinders</th>\n",
       "      <th>engineSize</th>\n",
       "      <th>fuelSystem</th>\n",
       "      <th>bore</th>\n",
       "      <th>horsepower</th>\n",
       "      <th>city_mpg</th>\n",
       "      <th>highway_mpg</th>\n",
       "      <th>price</th>\n",
       "    </tr>\n",
       "  </thead>\n",
       "  <tbody>\n",
       "    <tr>\n",
       "      <th>165</th>\n",
       "      <td>std</td>\n",
       "      <td>sedan</td>\n",
       "      <td>rwd</td>\n",
       "      <td>front</td>\n",
       "      <td>94.5</td>\n",
       "      <td>168.7</td>\n",
       "      <td>64.0</td>\n",
       "      <td>2265</td>\n",
       "      <td>dohc</td>\n",
       "      <td>four</td>\n",
       "      <td>98</td>\n",
       "      <td>mpfi</td>\n",
       "      <td>3.24</td>\n",
       "      <td>112.0</td>\n",
       "      <td>26</td>\n",
       "      <td>29</td>\n",
       "      <td>9298.0</td>\n",
       "    </tr>\n",
       "    <tr>\n",
       "      <th>166</th>\n",
       "      <td>std</td>\n",
       "      <td>hatchback</td>\n",
       "      <td>rwd</td>\n",
       "      <td>front</td>\n",
       "      <td>94.5</td>\n",
       "      <td>168.7</td>\n",
       "      <td>64.0</td>\n",
       "      <td>2300</td>\n",
       "      <td>dohc</td>\n",
       "      <td>four</td>\n",
       "      <td>98</td>\n",
       "      <td>mpfi</td>\n",
       "      <td>3.24</td>\n",
       "      <td>112.0</td>\n",
       "      <td>26</td>\n",
       "      <td>29</td>\n",
       "      <td>9538.0</td>\n",
       "    </tr>\n",
       "    <tr>\n",
       "      <th>167</th>\n",
       "      <td>std</td>\n",
       "      <td>hardtop</td>\n",
       "      <td>rwd</td>\n",
       "      <td>front</td>\n",
       "      <td>98.4</td>\n",
       "      <td>176.2</td>\n",
       "      <td>65.6</td>\n",
       "      <td>2540</td>\n",
       "      <td>ohc</td>\n",
       "      <td>four</td>\n",
       "      <td>146</td>\n",
       "      <td>mpfi</td>\n",
       "      <td>3.62</td>\n",
       "      <td>116.0</td>\n",
       "      <td>24</td>\n",
       "      <td>30</td>\n",
       "      <td>8449.0</td>\n",
       "    </tr>\n",
       "    <tr>\n",
       "      <th>168</th>\n",
       "      <td>std</td>\n",
       "      <td>hardtop</td>\n",
       "      <td>rwd</td>\n",
       "      <td>front</td>\n",
       "      <td>98.4</td>\n",
       "      <td>176.2</td>\n",
       "      <td>65.6</td>\n",
       "      <td>2536</td>\n",
       "      <td>ohc</td>\n",
       "      <td>four</td>\n",
       "      <td>146</td>\n",
       "      <td>mpfi</td>\n",
       "      <td>3.62</td>\n",
       "      <td>116.0</td>\n",
       "      <td>24</td>\n",
       "      <td>30</td>\n",
       "      <td>9639.0</td>\n",
       "    </tr>\n",
       "    <tr>\n",
       "      <th>169</th>\n",
       "      <td>std</td>\n",
       "      <td>hatchback</td>\n",
       "      <td>rwd</td>\n",
       "      <td>front</td>\n",
       "      <td>98.4</td>\n",
       "      <td>176.2</td>\n",
       "      <td>65.6</td>\n",
       "      <td>2551</td>\n",
       "      <td>ohc</td>\n",
       "      <td>four</td>\n",
       "      <td>146</td>\n",
       "      <td>mpfi</td>\n",
       "      <td>3.62</td>\n",
       "      <td>116.0</td>\n",
       "      <td>24</td>\n",
       "      <td>30</td>\n",
       "      <td>9989.0</td>\n",
       "    </tr>\n",
       "  </tbody>\n",
       "</table>\n",
       "</div>"
      ],
      "text/plain": [
       "    aspiration  bodyStyle driveWheels engineLocation  wheelBase  length  \\\n",
       "165        std      sedan         rwd          front       94.5   168.7   \n",
       "166        std  hatchback         rwd          front       94.5   168.7   \n",
       "167        std    hardtop         rwd          front       98.4   176.2   \n",
       "168        std    hardtop         rwd          front       98.4   176.2   \n",
       "169        std  hatchback         rwd          front       98.4   176.2   \n",
       "\n",
       "     width  curbWeight engineType cylinders  engineSize fuelSystem  bore  \\\n",
       "165   64.0        2265       dohc      four          98       mpfi  3.24   \n",
       "166   64.0        2300       dohc      four          98       mpfi  3.24   \n",
       "167   65.6        2540        ohc      four         146       mpfi  3.62   \n",
       "168   65.6        2536        ohc      four         146       mpfi  3.62   \n",
       "169   65.6        2551        ohc      four         146       mpfi  3.62   \n",
       "\n",
       "     horsepower  city_mpg  highway_mpg   price  \n",
       "165       112.0        26           29  9298.0  \n",
       "166       112.0        26           29  9538.0  \n",
       "167       116.0        24           30  8449.0  \n",
       "168       116.0        24           30  9639.0  \n",
       "169       116.0        24           30  9989.0  "
      ]
     },
     "execution_count": 100,
     "metadata": {},
     "output_type": "execute_result"
    }
   ],
   "source": [
    "test.head()"
   ]
  },
  {
   "cell_type": "code",
   "execution_count": null,
   "id": "e8a867ad",
   "metadata": {},
   "outputs": [],
   "source": []
  },
  {
   "cell_type": "code",
   "execution_count": null,
   "id": "6967798a",
   "metadata": {},
   "outputs": [],
   "source": []
  },
  {
   "cell_type": "code",
   "execution_count": null,
   "id": "8876aff0",
   "metadata": {},
   "outputs": [],
   "source": []
  },
  {
   "cell_type": "code",
   "execution_count": null,
   "id": "7b721138",
   "metadata": {},
   "outputs": [],
   "source": []
  },
  {
   "cell_type": "code",
   "execution_count": null,
   "id": "79d9361b",
   "metadata": {},
   "outputs": [],
   "source": []
  },
  {
   "cell_type": "code",
   "execution_count": null,
   "id": "a83a2373",
   "metadata": {},
   "outputs": [],
   "source": []
  },
  {
   "cell_type": "code",
   "execution_count": null,
   "id": "c79f8744",
   "metadata": {},
   "outputs": [],
   "source": []
  }
 ],
 "metadata": {
  "kernelspec": {
   "display_name": "Python 3 (ipykernel)",
   "language": "python",
   "name": "python3"
  },
  "language_info": {
   "codemirror_mode": {
    "name": "ipython",
    "version": 3
   },
   "file_extension": ".py",
   "mimetype": "text/x-python",
   "name": "python",
   "nbconvert_exporter": "python",
   "pygments_lexer": "ipython3",
   "version": "3.9.7"
  }
 },
 "nbformat": 4,
 "nbformat_minor": 5
}
